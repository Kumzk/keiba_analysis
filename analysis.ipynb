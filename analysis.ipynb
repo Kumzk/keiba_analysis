{
 "cells": [
  {
   "cell_type": "code",
   "execution_count": null,
   "metadata": {},
   "outputs": [],
   "source": [
    "import os\n",
    "import sys\n",
    "import pandas as pd\n",
    "import sqlalchemy\n",
    "from dotenv import load_dotenv\n",
    "\n",
    "load_dotenv()\n",
    "\n",
    "# connection parameters\n",
    "user = os.environ.get('user')\n",
    "password = os.environ.get('password')\n",
    "host = os.environ.get('host')\n",
    "port = os.environ.get('port')\n",
    "database = os.environ.get('database')\n",
    "url = f'mysql+pymysql://{user}:{password}@{host}:{port}/{database}'\n",
    "engine = sqlalchemy.create_engine(url)"
   ]
  },
  {
   "cell_type": "code",
   "execution_count": null,
   "metadata": {},
   "outputs": [],
   "source": [
    "sql = '''\n",
    "    SELECT\n",
    "        *\n",
    "    FROM race\n",
    "    INNER JOIN result ON race.race_id = result.race_id\n",
    "    INNER JOIN horse ON result.horse_id = horse.`id`\n",
    "    WHERE place_id = 9\n",
    "        AND race.length = 2200\n",
    "            AND race.date_and_time > '2010-01-01 09:50:00'\n",
    "            -- AND race.days <= 4\n",
    "        AND race.turf_cond = \"良\"\n",
    "        AND race.terms = \"定量\"\n",
    "        AND result.`arrival_order` <= 3\n",
    "        -- AND race.race_rank = 'オープン'\n",
    "'''\n",
    "df = pd.read_sql(sql = sql,con = engine,)\n",
    "df.columns\n",
    "df"
   ]
  }
 ],
 "metadata": {
  "kernelspec": {
   "display_name": "Python 3",
   "language": "python",
   "name": "python3"
  },
  "language_info": {
   "codemirror_mode": {
    "name": "ipython",
    "version": 3
   },
   "file_extension": ".py",
   "mimetype": "text/x-python",
   "name": "python",
   "nbconvert_exporter": "python",
   "pygments_lexer": "ipython3",
   "version": "3.8.5-final"
  }
 },
 "nbformat": 4,
 "nbformat_minor": 2
}
