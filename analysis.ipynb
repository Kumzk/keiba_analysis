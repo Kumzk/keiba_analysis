{
 "cells": [
  {
   "cell_type": "code",
   "execution_count": null,
   "metadata": {},
   "outputs": [],
   "source": [
    "import os\n",
    "from base import Analysis\n",
    "import json\n",
    "from typing import Tuple, List, Set\n",
    "import pandas as pd\n",
    "from tabulate import tabulate\n",
    "import copy\n",
    "\"\"\"\n",
    "開催場所\n",
    "1\t札幌, 2\t函館, 3\t福島, 4\t新潟, 5\t東京, 6\t中山, 7\t中京, 8\t京都, 9\t阪神, 10 小倉\n",
    "\"\"\"\n",
    "place = {1: '札幌', 2:'函館', 3:'福島', 4:'新潟', 5:'東京', 6:'中山', 7:'中京', 8:'京都', 9:'阪神', 10:'小倉'}\n",
    "place_id: int = 9 # 上記から競馬場を選択\n",
    "print(f'開催場所: {place[place_id]}競馬場')\n",
    "\n",
    "### 芝 or ダート　使う方をコメントイン\n",
    "is_turf: bool = True  # 芝\n",
    "# is_turf: bool = False # ダート\n",
    "curse = '芝' if is_turf else 'ダート'\n",
    "print(f'コース: {curse}')\n",
    "\n",
    "### 距離\n",
    "length: int = 1800\n",
    "print(f'距離: {length}m')\n",
    "\n",
    "### 馬場コンディション 使う方をコメントイン\n",
    "cond: str = '良'\n",
    "# cond: str = '重'\n",
    "print(f'馬場状態: {cond}')\n",
    "\n",
    "### 開催日のいつか\n",
    "days_pattern: dict = {\n",
    "  1: (1, 2), # 開幕週 \n",
    "  2: (3, 4), # 2週目だけ\n",
    "  3: (5, 6), # 3週目だけ\n",
    "  4: (7, 8), # 最終週\n",
    "  5: (1,2,3,4), #開催前半\n",
    "  6: (5,6,7,8)  #開催後半\n",
    "}\n",
    "display_day = {1:'開幕週', 2:'2週目だけ', 3:'3週目だけ', 4: '最終週', 5:'開催前半', 6:'開催後半'}\n",
    "select_day = 2\n",
    "days: Tuple = days_pattern[select_day]\n",
    "print(f'開催期間: {display_day[select_day]}')\n",
    "\n",
    "# コース設定\n",
    "analysis = Analysis(place_id, is_turf, length)\n",
    "# 条件追加\n",
    "analysis.setTerms(cond, days)\n",
    "\n",
    "print(f'対象レース: {analysis.count_race()}件')"
   ]
  },
  {
   "cell_type": "code",
   "execution_count": null,
   "metadata": {},
   "outputs": [],
   "source": [
    "## 枠番別分析\n",
    "frame_no: dict = analysis.frame_no()\n",
    "print(frame_no['memo'])\n",
    "insert: bool = analysis.insertCourseAnalysis(frame_no['course_analysis_id'], frame_no['data'], frame_no['memo'])\n",
    "frame_no['df']"
   ]
  },
  {
   "cell_type": "code",
   "execution_count": null,
   "metadata": {},
   "outputs": [],
   "source": [
    "\"\"\"\n",
    "馬番別成績\n",
    "\"\"\"\n",
    "horse_no: dict = analysis.horse_no()\n",
    "print(horse_no['memo'])\n",
    "insert: bool = analysis.insertCourseAnalysis(horse_no['course_analysis_id'], horse_no['data'], horse_no['memo'])\n",
    "horse_no['df']"
   ]
  }
 ],
 "metadata": {
  "kernelspec": {
   "display_name": "Python 3",
   "language": "python",
   "name": "python3"
  },
  "language_info": {
   "codemirror_mode": {
    "name": "ipython",
    "version": 3
   },
   "file_extension": ".py",
   "mimetype": "text/x-python",
   "name": "python",
   "nbconvert_exporter": "python",
   "pygments_lexer": "ipython3",
   "version": "3.8.5-final"
  }
 },
 "nbformat": 4,
 "nbformat_minor": 2
}
