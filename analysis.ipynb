{
 "cells": [
  {
   "cell_type": "code",
   "execution_count": null,
   "metadata": {},
   "outputs": [],
   "source": [
    "import os\n",
    "from base import Analysis\n",
    "import json\n",
    "from typing import Tuple, List, Set\n",
    "import pandas as pd\n",
    "from tabulate import tabulate\n",
    "import copy\n",
    "import config\n",
    "from IPython.core.interactiveshell import InteractiveShell\n",
    "InteractiveShell.ast_node_interactivity = \"all\"\n",
    "\n",
    "# コース設定\n",
    "analysis = Analysis(config.place_id, config.is_turf, config.length, config.grade_race)\n",
    "analysis.setTerms(config.cond, config.days)\n",
    "popularity_order: dict = analysis.popularity_order() # 人気順成績\n",
    "horse_wight: dict = analysis.horse_weight() # 馬体重\n",
    "frame_no: dict = analysis.frame_no() # 枠番別\n",
    "horse_no: dict = analysis.horse_no() # 馬番\n",
    "horse_age: dict = analysis.horse_age() # 馬番\n",
    "leg_type: dict = analysis.leg_type() # 脚質\n",
    "seconds_3f: dict = analysis.seconds_3f() # ラスト3Fのタイム\n",
    "jokey_weight: dict = analysis.jokey_weight() # ラスト3Fのタイム\n",
    "seconds_3f_rank: dict = analysis.seconds_3f_rank() \n",
    "horse_sex: dict = analysis.horse_sex() \n",
    "jockey: dict = analysis.jockey()\n",
    "\n",
    "print(f'{analysis.grade_race_course()}')\n",
    "print(f'対象レース: {analysis.count_race()}件')\n",
    "print(f'対象の馬の数: {analysis.count_horse()}件')\n",
    "# 条件追加"
   ]
  },
  {
   "cell_type": "code",
   "execution_count": null,
   "metadata": {},
   "outputs": [],
   "source": [
    "\"\"\"人気順成績\"\"\"\n",
    "print(popularity_order['course_analysis_id'])\n",
    "popularity_order['df']"
   ]
  },
  {
   "cell_type": "code",
   "execution_count": null,
   "metadata": {},
   "outputs": [],
   "source": [
    "\"\"\"馬体重別成績\"\"\"\n",
    "print(horse_wight['course_analysis_id'])\n",
    "horse_wight['df']"
   ]
  },
  {
   "cell_type": "code",
   "execution_count": null,
   "metadata": {},
   "outputs": [],
   "source": [
    "\"\"\"馬齢別成績\"\"\"\n",
    "print(horse_age['course_analysis_id'])\n",
    "horse_age['df']"
   ]
  },
  {
   "cell_type": "code",
   "execution_count": null,
   "metadata": {},
   "outputs": [],
   "source": [
    "\"\"\"斤量別成績\"\"\"\n",
    "print(jokey_weight['course_analysis_id'])\n",
    "jokey_weight['df']"
   ]
  },
  {
   "cell_type": "code",
   "execution_count": null,
   "metadata": {},
   "outputs": [],
   "source": [
    "\"\"\"枠番別成績\"\"\"\n",
    "print(frame_no['course_analysis_id'])\n",
    "frame_no['df']"
   ]
  },
  {
   "cell_type": "code",
   "execution_count": null,
   "metadata": {},
   "outputs": [],
   "source": [
    "\"\"\"馬番別成績\"\"\"\n",
    "print(horse_no['course_analysis_id'])\n",
    "horse_no['df']"
   ]
  },
  {
   "cell_type": "code",
   "execution_count": null,
   "metadata": {},
   "outputs": [],
   "source": [
    "\"\"\"脚質別成績\"\"\"\n",
    "print(leg_type['course_analysis_id'])\n",
    "leg_type['df']"
   ]
  },
  {
   "cell_type": "code",
   "execution_count": null,
   "metadata": {},
   "outputs": [],
   "source": [
    "\"\"\"ラスト3Fのタイム別成績\"\"\"\n",
    "print(seconds_3f['course_analysis_id'])\n",
    "seconds_3f['df']"
   ]
  },
  {
   "cell_type": "code",
   "execution_count": null,
   "metadata": {},
   "outputs": [],
   "source": [
    "\"\"\"上がり3Fのタイム順\"\"\"\n",
    "print(seconds_3f_rank['course_analysis_id'])\n",
    "seconds_3f_rank['df']"
   ]
  },
  {
   "cell_type": "code",
   "execution_count": null,
   "metadata": {},
   "outputs": [],
   "source": [
    "\"\"\"性別\"\"\"\n",
    "print(horse_sex['course_analysis_id'])\n",
    "horse_sex['df']"
   ]
  },
  {
   "cell_type": "code",
   "execution_count": null,
   "metadata": {},
   "outputs": [],
   "source": [
    "\"\"\"騎手別\"\"\"\n",
    "print(jockey['course_analysis_id'])\n",
    "jockey['df']"
   ]
  },
  {
   "cell_type": "code",
   "execution_count": null,
   "metadata": {},
   "outputs": [],
   "source": [
    "if config.is_insert:\n",
    "    insert: bool = analysis.insertCourseAnalysis(frame_no['course_analysis_id'], frame_no['data'], frame_no['memo'])\n",
    "    insert: bool = analysis.insertCourseAnalysis(horse_no['course_analysis_id'], horse_no['data'], horse_no['memo'])\n",
    "    insert: bool = analysis.insertCourseAnalysis(horse_wight['course_analysis_id'], horse_wight['data'], horse_wight['memo'])\n",
    "    insert: bool = analysis.insertCourseAnalysis(popularity_order['course_analysis_id'], popularity_order['data'], popularity_order['memo'])\n",
    "    insert: bool = analysis.insertCourseAnalysis(leg_type['course_analysis_id'], leg_type['data'], leg_type['memo'])\n",
    "    insert: bool = analysis.insertCourseAnalysis(seconds_3f['course_analysis_id'], seconds_3f['data'], seconds_3f['memo'])\n",
    "    insert: bool = analysis.insertCourseAnalysis(seconds_3f_rank['course_analysis_id'], seconds_3f_rank['data'], seconds_3f_rank['memo'])"
   ]
  }
 ],
 "metadata": {
  "kernelspec": {
   "display_name": "Python 3",
   "language": "python",
   "name": "python3"
  },
  "language_info": {
   "codemirror_mode": {
    "name": "ipython",
    "version": 3
   },
   "file_extension": ".py",
   "mimetype": "text/x-python",
   "name": "python",
   "nbconvert_exporter": "python",
   "pygments_lexer": "ipython3",
   "version": "3.8.5-final"
  }
 },
 "nbformat": 4,
 "nbformat_minor": 2
}
