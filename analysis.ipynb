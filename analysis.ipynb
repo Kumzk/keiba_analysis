{
 "cells": [
  {
   "cell_type": "code",
   "execution_count": null,
   "metadata": {},
   "outputs": [],
   "source": [
    "import os\n",
    "from base import Analysis\n",
    "import json\n",
    "from typing import Tuple, List, Set\n",
    "import pandas as pd\n",
    "from tabulate import tabulate\n",
    "import copy\n",
    "import config\n",
    "\n",
    "# コース設定\n",
    "analysis = Analysis(config.place_id, config.is_turf, config.length, config.grade_race)\n",
    "# 条件追加\n",
    "analysis.setTerms(config.cond, config.days)\n",
    "\n",
    "print(f'{analysis.grade_race_course()}')\n",
    "print(f'対象レース: {analysis.count_race()}件')\n",
    "print(f'対象の馬の数: {analysis.count_horse()}件')"
   ]
  },
  {
   "cell_type": "code",
   "execution_count": null,
   "metadata": {},
   "outputs": [],
   "source": [
    "\"\"\"\n",
    "人気順成績\n",
    "\"\"\"\n",
    "popularity_order: dict = analysis.popularity_order()\n",
    "print(popularity_order['memo'])\n",
    "# insert: bool = analysis.insertCourseAnalysis(popularity_order['course_analysis_id'], popularity_order['data'], popularity_order['memo'])\n",
    "popularity_order['df']"
   ]
  },
  {
   "cell_type": "code",
   "execution_count": null,
   "metadata": {},
   "outputs": [],
   "source": [
    "\"\"\"\n",
    "馬体重別成績\n",
    "\"\"\"\n",
    "horse_wight: dict = analysis.horse_weight()\n",
    "print(horse_wight['memo'])\n",
    "# insert: bool = analysis.insertCourseAnalysis(horse_wight['course_analysis_id'], horse_wight['data'], horse_wight['memo'])\n",
    "horse_wight['df']"
   ]
  },
  {
   "cell_type": "code",
   "execution_count": null,
   "metadata": {},
   "outputs": [],
   "source": [
    "\"\"\"\n",
    "枠番別成績\n",
    "\"\"\"\n",
    "frame_no: dict = analysis.frame_no()\n",
    "print(frame_no['memo'])\n",
    "# insert: bool = analysis.insertCourseAnalysis(frame_no['course_analysis_id'], frame_no['data'], frame_no['memo'])\n",
    "frame_no['df']"
   ]
  },
  {
   "cell_type": "code",
   "execution_count": null,
   "metadata": {},
   "outputs": [],
   "source": [
    "\"\"\"\n",
    "馬番別成績\n",
    "\"\"\"\n",
    "horse_no: dict = analysis.horse_no()\n",
    "print(horse_no['memo'])\n",
    "# insert: bool = analysis.insertCourseAnalysis(horse_no['course_analysis_id'], horse_no['data'], horse_no['memo'])\n",
    "horse_no['df']"
   ]
  }
 ],
 "metadata": {
  "kernelspec": {
   "display_name": "Python 3",
   "language": "python",
   "name": "python3"
  },
  "language_info": {
   "codemirror_mode": {
    "name": "ipython",
    "version": 3
   },
   "file_extension": ".py",
   "mimetype": "text/x-python",
   "name": "python",
   "nbconvert_exporter": "python",
   "pygments_lexer": "ipython3",
   "version": "3.8.5-final"
  }
 },
 "nbformat": 4,
 "nbformat_minor": 2
}
